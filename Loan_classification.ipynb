{
  "nbformat": 4,
  "nbformat_minor": 0,
  "metadata": {
    "colab": {
      "provenance": [],
      "authorship_tag": "ABX9TyPFC/u1ie9Mb3HDbPGfijJz",
      "include_colab_link": true
    },
    "kernelspec": {
      "name": "python3",
      "display_name": "Python 3"
    },
    "language_info": {
      "name": "python"
    }
  },
  "cells": [
    {
      "cell_type": "markdown",
      "metadata": {
        "id": "view-in-github",
        "colab_type": "text"
      },
      "source": [
        "<a href=\"https://colab.research.google.com/github/fatihamaazaz/Loan-classification/blob/main/Loan_classification.ipynb\" target=\"_parent\"><img src=\"https://colab.research.google.com/assets/colab-badge.svg\" alt=\"Open In Colab\"/></a>"
      ]
    },
    {
      "cell_type": "markdown",
      "source": [
        "# **Classification des prets**\n",
        "\n",
        "* Importation des données et des bibliothèques\n",
        "\n",
        "* Éxploration de données\n",
        "\n",
        "  *   Identification des variables\n",
        "  *   Analyse univariée\n",
        "  *   Analyse multivariée\n",
        "  *   Traitement des données manquantes\n",
        "  *   Detection et traitement des outliers\n",
        "  *   Features engineering\n",
        "\n",
        "* Creation de Modéle\n",
        "\n"
      ],
      "metadata": {
        "id": "7J410OL8rQYR"
      }
    },
    {
      "cell_type": "markdown",
      "source": [
        "## **Importation des données et des bibliothèques**\n",
        "- Source de donnees : Kaggle\n",
        "\n",
        "- Description : Ces données appartiennent a un Hackathon organisé par \"Univ.AI\"\n",
        "\n",
        "- URL : https://www.kaggle.com/datasets/subhamjain/loan-prediction-based-on-customer-behavior  "
      ],
      "metadata": {
        "id": "ibbnEbMEtFlC"
      }
    },
    {
      "cell_type": "code",
      "execution_count": 1,
      "metadata": {
        "id": "Q2mvRusoOL3U"
      },
      "outputs": [],
      "source": [
        "!pip install opendatasets --upgrade --quiet"
      ]
    },
    {
      "cell_type": "code",
      "source": [
        "!sudo pip3 install keras --quiet"
      ],
      "metadata": {
        "id": "U6xBzVezHQXY"
      },
      "execution_count": 6,
      "outputs": []
    },
    {
      "cell_type": "code",
      "source": [
        "import pandas as pd\n",
        "import numpy as np\n",
        "import matplotlib.pyplot as plt\n",
        "import seaborn as sns\n",
        "from sklearn.model_selection import train_test_split\n",
        "import opendatasets as od\n",
        "from sklearn.preprocessing import MinMaxScaler\n",
        "import tensorflow as tf\n",
        "from tensorflow.keras.models import Sequential\n",
        "from tensorflow.keras.layers import Dense,Dropout\n",
        "import logging\n",
        "logging.getLogger('tensorflow').setLevel(logging.ERROR)\n",
        "from tensorflow.keras.callbacks import EarlyStopping\n",
        "from sklearn.metrics import classification_report,confusion_matrix,roc_curve,roc_auc_score,auc"
      ],
      "metadata": {
        "id": "Z5WiNrphSZaq"
      },
      "execution_count": 7,
      "outputs": []
    },
    {
      "cell_type": "code",
      "source": [
        "download_url = 'https://www.kaggle.com/datasets/subhamjain/loan-prediction-based-on-customer-behavior'\n",
        "\n",
        "od.download(download_url)"
      ],
      "metadata": {
        "colab": {
          "base_uri": "https://localhost:8080/"
        },
        "id": "6bbNkiCYQ7Jg",
        "outputId": "04395918-54e5-474f-bb66-1da66747a9f2"
      },
      "execution_count": 3,
      "outputs": [
        {
          "output_type": "stream",
          "name": "stdout",
          "text": [
            "Please provide your Kaggle credentials to download this dataset. Learn more: http://bit.ly/kaggle-creds\n",
            "Your Kaggle username: fatimz\n",
            "Your Kaggle Key: ··········\n",
            "Downloading loan-prediction-based-on-customer-behavior.zip to ./loan-prediction-based-on-customer-behavior\n"
          ]
        },
        {
          "output_type": "stream",
          "name": "stderr",
          "text": [
            "100%|██████████| 5.15M/5.15M [00:00<00:00, 81.0MB/s]"
          ]
        },
        {
          "output_type": "stream",
          "name": "stdout",
          "text": [
            "\n"
          ]
        },
        {
          "output_type": "stream",
          "name": "stderr",
          "text": [
            "\n"
          ]
        }
      ]
    },
    {
      "cell_type": "code",
      "source": [
        "data = pd.read_csv(\"loan-prediction-based-on-customer-behavior/Training Data.csv\")"
      ],
      "metadata": {
        "id": "AK_ani24SUi8"
      },
      "execution_count": 4,
      "outputs": []
    },
    {
      "cell_type": "code",
      "source": [
        "data.head()"
      ],
      "metadata": {
        "colab": {
          "base_uri": "https://localhost:8080/",
          "height": 206
        },
        "id": "KYnZPaB0S4hN",
        "outputId": "c31f7268-c5b0-495a-fd19-b7e88c829827"
      },
      "execution_count": 5,
      "outputs": [
        {
          "output_type": "execute_result",
          "data": {
            "text/plain": [
              "   Id   Income  Age  Experience Married/Single House_Ownership Car_Ownership  \\\n",
              "0   1  1303834   23           3         single          rented            no   \n",
              "1   2  7574516   40          10         single          rented            no   \n",
              "2   3  3991815   66           4        married          rented            no   \n",
              "3   4  6256451   41           2         single          rented           yes   \n",
              "4   5  5768871   47          11         single          rented            no   \n",
              "\n",
              "            Profession                 CITY           STATE  CURRENT_JOB_YRS  \\\n",
              "0  Mechanical_engineer                 Rewa  Madhya_Pradesh                3   \n",
              "1   Software_Developer             Parbhani     Maharashtra                9   \n",
              "2     Technical_writer            Alappuzha          Kerala                4   \n",
              "3   Software_Developer          Bhubaneswar          Odisha                2   \n",
              "4        Civil_servant  Tiruchirappalli[10]      Tamil_Nadu                3   \n",
              "\n",
              "   CURRENT_HOUSE_YRS  Risk_Flag  \n",
              "0                 13          0  \n",
              "1                 13          0  \n",
              "2                 10          0  \n",
              "3                 12          1  \n",
              "4                 14          1  "
            ],
            "text/html": [
              "\n",
              "  <div id=\"df-4fa86640-168e-40ad-b262-b3c3f498104a\">\n",
              "    <div class=\"colab-df-container\">\n",
              "      <div>\n",
              "<style scoped>\n",
              "    .dataframe tbody tr th:only-of-type {\n",
              "        vertical-align: middle;\n",
              "    }\n",
              "\n",
              "    .dataframe tbody tr th {\n",
              "        vertical-align: top;\n",
              "    }\n",
              "\n",
              "    .dataframe thead th {\n",
              "        text-align: right;\n",
              "    }\n",
              "</style>\n",
              "<table border=\"1\" class=\"dataframe\">\n",
              "  <thead>\n",
              "    <tr style=\"text-align: right;\">\n",
              "      <th></th>\n",
              "      <th>Id</th>\n",
              "      <th>Income</th>\n",
              "      <th>Age</th>\n",
              "      <th>Experience</th>\n",
              "      <th>Married/Single</th>\n",
              "      <th>House_Ownership</th>\n",
              "      <th>Car_Ownership</th>\n",
              "      <th>Profession</th>\n",
              "      <th>CITY</th>\n",
              "      <th>STATE</th>\n",
              "      <th>CURRENT_JOB_YRS</th>\n",
              "      <th>CURRENT_HOUSE_YRS</th>\n",
              "      <th>Risk_Flag</th>\n",
              "    </tr>\n",
              "  </thead>\n",
              "  <tbody>\n",
              "    <tr>\n",
              "      <th>0</th>\n",
              "      <td>1</td>\n",
              "      <td>1303834</td>\n",
              "      <td>23</td>\n",
              "      <td>3</td>\n",
              "      <td>single</td>\n",
              "      <td>rented</td>\n",
              "      <td>no</td>\n",
              "      <td>Mechanical_engineer</td>\n",
              "      <td>Rewa</td>\n",
              "      <td>Madhya_Pradesh</td>\n",
              "      <td>3</td>\n",
              "      <td>13</td>\n",
              "      <td>0</td>\n",
              "    </tr>\n",
              "    <tr>\n",
              "      <th>1</th>\n",
              "      <td>2</td>\n",
              "      <td>7574516</td>\n",
              "      <td>40</td>\n",
              "      <td>10</td>\n",
              "      <td>single</td>\n",
              "      <td>rented</td>\n",
              "      <td>no</td>\n",
              "      <td>Software_Developer</td>\n",
              "      <td>Parbhani</td>\n",
              "      <td>Maharashtra</td>\n",
              "      <td>9</td>\n",
              "      <td>13</td>\n",
              "      <td>0</td>\n",
              "    </tr>\n",
              "    <tr>\n",
              "      <th>2</th>\n",
              "      <td>3</td>\n",
              "      <td>3991815</td>\n",
              "      <td>66</td>\n",
              "      <td>4</td>\n",
              "      <td>married</td>\n",
              "      <td>rented</td>\n",
              "      <td>no</td>\n",
              "      <td>Technical_writer</td>\n",
              "      <td>Alappuzha</td>\n",
              "      <td>Kerala</td>\n",
              "      <td>4</td>\n",
              "      <td>10</td>\n",
              "      <td>0</td>\n",
              "    </tr>\n",
              "    <tr>\n",
              "      <th>3</th>\n",
              "      <td>4</td>\n",
              "      <td>6256451</td>\n",
              "      <td>41</td>\n",
              "      <td>2</td>\n",
              "      <td>single</td>\n",
              "      <td>rented</td>\n",
              "      <td>yes</td>\n",
              "      <td>Software_Developer</td>\n",
              "      <td>Bhubaneswar</td>\n",
              "      <td>Odisha</td>\n",
              "      <td>2</td>\n",
              "      <td>12</td>\n",
              "      <td>1</td>\n",
              "    </tr>\n",
              "    <tr>\n",
              "      <th>4</th>\n",
              "      <td>5</td>\n",
              "      <td>5768871</td>\n",
              "      <td>47</td>\n",
              "      <td>11</td>\n",
              "      <td>single</td>\n",
              "      <td>rented</td>\n",
              "      <td>no</td>\n",
              "      <td>Civil_servant</td>\n",
              "      <td>Tiruchirappalli[10]</td>\n",
              "      <td>Tamil_Nadu</td>\n",
              "      <td>3</td>\n",
              "      <td>14</td>\n",
              "      <td>1</td>\n",
              "    </tr>\n",
              "  </tbody>\n",
              "</table>\n",
              "</div>\n",
              "      <button class=\"colab-df-convert\" onclick=\"convertToInteractive('df-4fa86640-168e-40ad-b262-b3c3f498104a')\"\n",
              "              title=\"Convert this dataframe to an interactive table.\"\n",
              "              style=\"display:none;\">\n",
              "        \n",
              "  <svg xmlns=\"http://www.w3.org/2000/svg\" height=\"24px\"viewBox=\"0 0 24 24\"\n",
              "       width=\"24px\">\n",
              "    <path d=\"M0 0h24v24H0V0z\" fill=\"none\"/>\n",
              "    <path d=\"M18.56 5.44l.94 2.06.94-2.06 2.06-.94-2.06-.94-.94-2.06-.94 2.06-2.06.94zm-11 1L8.5 8.5l.94-2.06 2.06-.94-2.06-.94L8.5 2.5l-.94 2.06-2.06.94zm10 10l.94 2.06.94-2.06 2.06-.94-2.06-.94-.94-2.06-.94 2.06-2.06.94z\"/><path d=\"M17.41 7.96l-1.37-1.37c-.4-.4-.92-.59-1.43-.59-.52 0-1.04.2-1.43.59L10.3 9.45l-7.72 7.72c-.78.78-.78 2.05 0 2.83L4 21.41c.39.39.9.59 1.41.59.51 0 1.02-.2 1.41-.59l7.78-7.78 2.81-2.81c.8-.78.8-2.07 0-2.86zM5.41 20L4 18.59l7.72-7.72 1.47 1.35L5.41 20z\"/>\n",
              "  </svg>\n",
              "      </button>\n",
              "      \n",
              "  <style>\n",
              "    .colab-df-container {\n",
              "      display:flex;\n",
              "      flex-wrap:wrap;\n",
              "      gap: 12px;\n",
              "    }\n",
              "\n",
              "    .colab-df-convert {\n",
              "      background-color: #E8F0FE;\n",
              "      border: none;\n",
              "      border-radius: 50%;\n",
              "      cursor: pointer;\n",
              "      display: none;\n",
              "      fill: #1967D2;\n",
              "      height: 32px;\n",
              "      padding: 0 0 0 0;\n",
              "      width: 32px;\n",
              "    }\n",
              "\n",
              "    .colab-df-convert:hover {\n",
              "      background-color: #E2EBFA;\n",
              "      box-shadow: 0px 1px 2px rgba(60, 64, 67, 0.3), 0px 1px 3px 1px rgba(60, 64, 67, 0.15);\n",
              "      fill: #174EA6;\n",
              "    }\n",
              "\n",
              "    [theme=dark] .colab-df-convert {\n",
              "      background-color: #3B4455;\n",
              "      fill: #D2E3FC;\n",
              "    }\n",
              "\n",
              "    [theme=dark] .colab-df-convert:hover {\n",
              "      background-color: #434B5C;\n",
              "      box-shadow: 0px 1px 3px 1px rgba(0, 0, 0, 0.15);\n",
              "      filter: drop-shadow(0px 1px 2px rgba(0, 0, 0, 0.3));\n",
              "      fill: #FFFFFF;\n",
              "    }\n",
              "  </style>\n",
              "\n",
              "      <script>\n",
              "        const buttonEl =\n",
              "          document.querySelector('#df-4fa86640-168e-40ad-b262-b3c3f498104a button.colab-df-convert');\n",
              "        buttonEl.style.display =\n",
              "          google.colab.kernel.accessAllowed ? 'block' : 'none';\n",
              "\n",
              "        async function convertToInteractive(key) {\n",
              "          const element = document.querySelector('#df-4fa86640-168e-40ad-b262-b3c3f498104a');\n",
              "          const dataTable =\n",
              "            await google.colab.kernel.invokeFunction('convertToInteractive',\n",
              "                                                     [key], {});\n",
              "          if (!dataTable) return;\n",
              "\n",
              "          const docLinkHtml = 'Like what you see? Visit the ' +\n",
              "            '<a target=\"_blank\" href=https://colab.research.google.com/notebooks/data_table.ipynb>data table notebook</a>'\n",
              "            + ' to learn more about interactive tables.';\n",
              "          element.innerHTML = '';\n",
              "          dataTable['output_type'] = 'display_data';\n",
              "          await google.colab.output.renderOutput(dataTable, element);\n",
              "          const docLink = document.createElement('div');\n",
              "          docLink.innerHTML = docLinkHtml;\n",
              "          element.appendChild(docLink);\n",
              "        }\n",
              "      </script>\n",
              "    </div>\n",
              "  </div>\n",
              "  "
            ]
          },
          "metadata": {},
          "execution_count": 5
        }
      ]
    },
    {
      "cell_type": "markdown",
      "source": [
        "## **Éxploration de données**"
      ],
      "metadata": {
        "id": "l9YTgFC5u8FV"
      }
    },
    {
      "cell_type": "markdown",
      "source": [
        "### **Identification des variables**"
      ],
      "metadata": {
        "id": "edVJq597vVjC"
      }
    },
    {
      "cell_type": "code",
      "source": [
        "data.info()"
      ],
      "metadata": {
        "colab": {
          "base_uri": "https://localhost:8080/"
        },
        "id": "I1Sk6kshva63",
        "outputId": "fdc4dd3f-a212-4032-a3fb-dbc30490997c"
      },
      "execution_count": null,
      "outputs": [
        {
          "output_type": "stream",
          "name": "stdout",
          "text": [
            "<class 'pandas.core.frame.DataFrame'>\n",
            "RangeIndex: 252000 entries, 0 to 251999\n",
            "Data columns (total 13 columns):\n",
            " #   Column             Non-Null Count   Dtype \n",
            "---  ------             --------------   ----- \n",
            " 0   Id                 252000 non-null  int64 \n",
            " 1   Income             252000 non-null  int64 \n",
            " 2   Age                252000 non-null  int64 \n",
            " 3   Experience         252000 non-null  int64 \n",
            " 4   Married/Single     252000 non-null  object\n",
            " 5   House_Ownership    252000 non-null  object\n",
            " 6   Car_Ownership      252000 non-null  object\n",
            " 7   Profession         252000 non-null  object\n",
            " 8   CITY               252000 non-null  object\n",
            " 9   STATE              252000 non-null  object\n",
            " 10  CURRENT_JOB_YRS    252000 non-null  int64 \n",
            " 11  CURRENT_HOUSE_YRS  252000 non-null  int64 \n",
            " 12  Risk_Flag          252000 non-null  int64 \n",
            "dtypes: int64(7), object(6)\n",
            "memory usage: 25.0+ MB\n"
          ]
        }
      ]
    },
    {
      "cell_type": "code",
      "source": [
        "#variable cible\n",
        "data['Risk_Flag']"
      ],
      "metadata": {
        "colab": {
          "base_uri": "https://localhost:8080/"
        },
        "id": "hSpELcEq0muk",
        "outputId": "834defc9-05fb-4b67-9bf2-0496fb77379f"
      },
      "execution_count": null,
      "outputs": [
        {
          "output_type": "execute_result",
          "data": {
            "text/plain": [
              "0         0\n",
              "1         0\n",
              "2         0\n",
              "3         1\n",
              "4         1\n",
              "         ..\n",
              "251995    0\n",
              "251996    0\n",
              "251997    0\n",
              "251998    0\n",
              "251999    0\n",
              "Name: Risk_Flag, Length: 252000, dtype: int64"
            ]
          },
          "metadata": {},
          "execution_count": 8
        }
      ]
    },
    {
      "cell_type": "markdown",
      "source": [
        "### **Analyse univariée**"
      ],
      "metadata": {
        "id": "AvSIRZXg0tYm"
      }
    },
    {
      "cell_type": "code",
      "source": [
        "sns.countplot(x = 'Risk_Flag', data = data)"
      ],
      "metadata": {
        "colab": {
          "base_uri": "https://localhost:8080/",
          "height": 298
        },
        "id": "05ysi0aL1gCZ",
        "outputId": "90581360-c341-4c78-fdab-775d69718df9"
      },
      "execution_count": null,
      "outputs": [
        {
          "output_type": "execute_result",
          "data": {
            "text/plain": [
              "<matplotlib.axes._subplots.AxesSubplot at 0x7fe5a8d05990>"
            ]
          },
          "metadata": {},
          "execution_count": 9
        },
        {
          "output_type": "display_data",
          "data": {
            "text/plain": [
              "<Figure size 432x288 with 1 Axes>"
            ],
            "image/png": "[encoded data removed]"
          },
          "metadata": {
            "needs_background": "light"
          }
        }
      ]
    },
    {
      "cell_type": "markdown",
      "source": [
        "Observation :\n",
        "le nombre des prets payés est plus grand dans notre dataset."
      ],
      "metadata": {
        "id": "tssFqUy_1zow"
      }
    },
    {
      "cell_type": "code",
      "source": [
        "sns.countplot(x = 'Married/Single', data = data)"
      ],
      "metadata": {
        "colab": {
          "base_uri": "https://localhost:8080/",
          "height": 297
        },
        "id": "nJBCyA_w54_e",
        "outputId": "bced7ca4-5a27-4a25-a339-43c6a05d6994"
      },
      "execution_count": null,
      "outputs": [
        {
          "output_type": "execute_result",
          "data": {
            "text/plain": [
              "<matplotlib.axes._subplots.AxesSubplot at 0x7fe5a8c48a90>"
            ]
          },
          "metadata": {},
          "execution_count": 10
        },
        {
          "output_type": "display_data",
          "data": {
            "text/plain": [
              "<Figure size 432x288 with 1 Axes>"
            ],
            "image/png": "[encoded data removed]"
          },
          "metadata": {
            "needs_background": "light"
          }
        }
      ]
    },
    {
      "cell_type": "markdown",
      "source": [
        "Observation :\n",
        "le nombre des gens celibataires est plus grand dans notre dataset."
      ],
      "metadata": {
        "id": "9jwnG6rb5_yV"
      }
    },
    {
      "cell_type": "code",
      "source": [
        "sns.displot(x=\"Age\", data = data, kind=\"kde\", bw_adjust=8)"
      ],
      "metadata": {
        "colab": {
          "base_uri": "https://localhost:8080/",
          "height": 387
        },
        "id": "g7ADg0lb307X",
        "outputId": "bc675853-3c95-4ce8-ad33-4bd5148552e1"
      },
      "execution_count": null,
      "outputs": [
        {
          "output_type": "execute_result",
          "data": {
            "text/plain": [
              "<seaborn.axisgrid.FacetGrid at 0x7f6afd7f5250>"
            ]
          },
          "metadata": {},
          "execution_count": 12
        },
        {
          "output_type": "display_data",
          "data": {
            "text/plain": [
              "<Figure size 360x360 with 1 Axes>"
            ],
            "image/png": "[encoded data removed]"
          },
          "metadata": {
            "needs_background": "light"
          }
        }
      ]
    },
    {
      "cell_type": "code",
      "source": [
        "sns.displot(x=\"Income\", data = data, kind=\"kde\", bw_adjust=8)"
      ],
      "metadata": {
        "colab": {
          "base_uri": "https://localhost:8080/",
          "height": 387
        },
        "id": "HL9kHZpQ4lxY",
        "outputId": "b5079407-1813-430e-9607-f6010deb74ef"
      },
      "execution_count": null,
      "outputs": [
        {
          "output_type": "execute_result",
          "data": {
            "text/plain": [
              "<seaborn.axisgrid.FacetGrid at 0x7f6afd7d49d0>"
            ]
          },
          "metadata": {},
          "execution_count": 13
        },
        {
          "output_type": "display_data",
          "data": {
            "text/plain": [
              "<Figure size 360x360 with 1 Axes>"
            ],
            "image/png": "[encoded data removed]"
          },
          "metadata": {
            "needs_background": "light"
          }
        }
      ]
    },
    {
      "cell_type": "markdown",
      "source": [
        "Observation :\n",
        "l'Age et le revenu ne sont pas des facteurs aidant a la decision"
      ],
      "metadata": {
        "id": "i-QKch1H5FVK"
      }
    },
    {
      "cell_type": "markdown",
      "source": [
        "### **Analyse multivariée**"
      ],
      "metadata": {
        "id": "WB1RGOXK5m9y"
      }
    },
    {
      "cell_type": "code",
      "source": [
        "#plt.figure(figsize=(13,8))\n",
        "fig, ax =plt.subplots(1,2, figsize= (13,5))\n",
        "sns.countplot(x ='House_Ownership', hue = \"Risk_Flag\", data = data, ax = ax[1])\n",
        "sns.countplot(x ='House_Ownership', data = data, ax = ax[0])\n",
        "fig.show()"
      ],
      "metadata": {
        "colab": {
          "base_uri": "https://localhost:8080/",
          "height": 335
        },
        "id": "pxpjhLcz60D-",
        "outputId": "ed3d9065-2ae4-483c-adfd-78ae203f7d41"
      },
      "execution_count": null,
      "outputs": [
        {
          "output_type": "display_data",
          "data": {
            "text/plain": [
              "<Figure size 936x360 with 2 Axes>"
            ],
            "image/png": "[encoded data removed]"
          },
          "metadata": {
            "needs_background": "light"
          }
        }
      ]
    },
    {
      "cell_type": "code",
      "source": [
        "dc = pd.DataFrame()\n",
        "dc['Income'] = data['Income']\n",
        "dc['CURRENT_JOB_YRS'] = data['CURRENT_JOB_YRS']\n",
        "dc['CURRENT_HOUSE_YRS'] = data['CURRENT_HOUSE_YRS']\n",
        "dc.corr()"
      ],
      "metadata": {
        "colab": {
          "base_uri": "https://localhost:8080/",
          "height": 143
        },
        "id": "YUn9Lk1I949g",
        "outputId": "27c954e0-ae93-44ef-b2a7-613c04486bf3"
      },
      "execution_count": null,
      "outputs": [
        {
          "output_type": "execute_result",
          "data": {
            "text/plain": [
              "                     Income  CURRENT_JOB_YRS  CURRENT_HOUSE_YRS\n",
              "Income             1.000000         0.007045          -0.002397\n",
              "CURRENT_JOB_YRS    0.007045         1.000000           0.005372\n",
              "CURRENT_HOUSE_YRS -0.002397         0.005372           1.000000"
            ],
            "text/html": [
              "\n",
              "  <div id=\"df-ac21a8a9-3349-4b55-8023-eee4f2cfd821\">\n",
              "    <div class=\"colab-df-container\">\n",
              "      <div>\n",
              "<style scoped>\n",
              "    .dataframe tbody tr th:only-of-type {\n",
              "        vertical-align: middle;\n",
              "    }\n",
              "\n",
              "    .dataframe tbody tr th {\n",
              "        vertical-align: top;\n",
              "    }\n",
              "\n",
              "    .dataframe thead th {\n",
              "        text-align: right;\n",
              "    }\n",
              "</style>\n",
              "<table border=\"1\" class=\"dataframe\">\n",
              "  <thead>\n",
              "    <tr style=\"text-align: right;\">\n",
              "      <th></th>\n",
              "      <th>Income</th>\n",
              "      <th>CURRENT_JOB_YRS</th>\n",
              "      <th>CURRENT_HOUSE_YRS</th>\n",
              "    </tr>\n",
              "  </thead>\n",
              "  <tbody>\n",
              "    <tr>\n",
              "      <th>Income</th>\n",
              "      <td>1.000000</td>\n",
              "      <td>0.007045</td>\n",
              "      <td>-0.002397</td>\n",
              "    </tr>\n",
              "    <tr>\n",
              "      <th>CURRENT_JOB_YRS</th>\n",
              "      <td>0.007045</td>\n",
              "      <td>1.000000</td>\n",
              "      <td>0.005372</td>\n",
              "    </tr>\n",
              "    <tr>\n",
              "      <th>CURRENT_HOUSE_YRS</th>\n",
              "      <td>-0.002397</td>\n",
              "      <td>0.005372</td>\n",
              "      <td>1.000000</td>\n",
              "    </tr>\n",
              "  </tbody>\n",
              "</table>\n",
              "</div>\n",
              "      <button class=\"colab-df-convert\" onclick=\"convertToInteractive('df-ac21a8a9-3349-4b55-8023-eee4f2cfd821')\"\n",
              "              title=\"Convert this dataframe to an interactive table.\"\n",
              "              style=\"display:none;\">\n",
              "        \n",
              "  <svg xmlns=\"http://www.w3.org/2000/svg\" height=\"24px\"viewBox=\"0 0 24 24\"\n",
              "       width=\"24px\">\n",
              "    <path d=\"M0 0h24v24H0V0z\" fill=\"none\"/>\n",
              "    <path d=\"M18.56 5.44l.94 2.06.94-2.06 2.06-.94-2.06-.94-.94-2.06-.94 2.06-2.06.94zm-11 1L8.5 8.5l.94-2.06 2.06-.94-2.06-.94L8.5 2.5l-.94 2.06-2.06.94zm10 10l.94 2.06.94-2.06 2.06-.94-2.06-.94-.94-2.06-.94 2.06-2.06.94z\"/><path d=\"M17.41 7.96l-1.37-1.37c-.4-.4-.92-.59-1.43-.59-.52 0-1.04.2-1.43.59L10.3 9.45l-7.72 7.72c-.78.78-.78 2.05 0 2.83L4 21.41c.39.39.9.59 1.41.59.51 0 1.02-.2 1.41-.59l7.78-7.78 2.81-2.81c.8-.78.8-2.07 0-2.86zM5.41 20L4 18.59l7.72-7.72 1.47 1.35L5.41 20z\"/>\n",
              "  </svg>\n",
              "      </button>\n",
              "      \n",
              "  <style>\n",
              "    .colab-df-container {\n",
              "      display:flex;\n",
              "      flex-wrap:wrap;\n",
              "      gap: 12px;\n",
              "    }\n",
              "\n",
              "    .colab-df-convert {\n",
              "      background-color: #E8F0FE;\n",
              "      border: none;\n",
              "      border-radius: 50%;\n",
              "      cursor: pointer;\n",
              "      display: none;\n",
              "      fill: #1967D2;\n",
              "      height: 32px;\n",
              "      padding: 0 0 0 0;\n",
              "      width: 32px;\n",
              "    }\n",
              "\n",
              "    .colab-df-convert:hover {\n",
              "      background-color: #E2EBFA;\n",
              "      box-shadow: 0px 1px 2px rgba(60, 64, 67, 0.3), 0px 1px 3px 1px rgba(60, 64, 67, 0.15);\n",
              "      fill: #174EA6;\n",
              "    }\n",
              "\n",
              "    [theme=dark] .colab-df-convert {\n",
              "      background-color: #3B4455;\n",
              "      fill: #D2E3FC;\n",
              "    }\n",
              "\n",
              "    [theme=dark] .colab-df-convert:hover {\n",
              "      background-color: #434B5C;\n",
              "      box-shadow: 0px 1px 3px 1px rgba(0, 0, 0, 0.15);\n",
              "      filter: drop-shadow(0px 1px 2px rgba(0, 0, 0, 0.3));\n",
              "      fill: #FFFFFF;\n",
              "    }\n",
              "  </style>\n",
              "\n",
              "      <script>\n",
              "        const buttonEl =\n",
              "          document.querySelector('#df-ac21a8a9-3349-4b55-8023-eee4f2cfd821 button.colab-df-convert');\n",
              "        buttonEl.style.display =\n",
              "          google.colab.kernel.accessAllowed ? 'block' : 'none';\n",
              "\n",
              "        async function convertToInteractive(key) {\n",
              "          const element = document.querySelector('#df-ac21a8a9-3349-4b55-8023-eee4f2cfd821');\n",
              "          const dataTable =\n",
              "            await google.colab.kernel.invokeFunction('convertToInteractive',\n",
              "                                                     [key], {});\n",
              "          if (!dataTable) return;\n",
              "\n",
              "          const docLinkHtml = 'Like what you see? Visit the ' +\n",
              "            '<a target=\"_blank\" href=https://colab.research.google.com/notebooks/data_table.ipynb>data table notebook</a>'\n",
              "            + ' to learn more about interactive tables.';\n",
              "          element.innerHTML = '';\n",
              "          dataTable['output_type'] = 'display_data';\n",
              "          await google.colab.output.renderOutput(dataTable, element);\n",
              "          const docLink = document.createElement('div');\n",
              "          docLink.innerHTML = docLinkHtml;\n",
              "          element.appendChild(docLink);\n",
              "        }\n",
              "      </script>\n",
              "    </div>\n",
              "  </div>\n",
              "  "
            ]
          },
          "metadata": {},
          "execution_count": 43
        }
      ]
    },
    {
      "cell_type": "code",
      "source": [
        "data.groupby(\"Risk_Flag\")[\"Income\"].describe()"
      ],
      "metadata": {
        "colab": {
          "base_uri": "https://localhost:8080/",
          "height": 143
        },
        "id": "HWU39A5z4kyW",
        "outputId": "5595a752-3c25-4e1b-8459-1bd989653a6a"
      },
      "execution_count": null,
      "outputs": [
        {
          "output_type": "execute_result",
          "data": {
            "text/plain": [
              "              count          mean           std      min         25%  \\\n",
              "Risk_Flag                                                              \n",
              "0          221004.0  5.000449e+06  2.872255e+06  10310.0  2520632.75   \n",
              "1           30996.0  4.973359e+06  2.921065e+06  10675.0  2421029.00   \n",
              "\n",
              "                 50%        75%        max  \n",
              "Risk_Flag                                   \n",
              "0          5002134.0  7470480.0  9999938.0  \n",
              "1          4977653.0  7556052.0  9994501.0  "
            ],
            "text/html": [
              "\n",
              "  <div id=\"df-7ba76767-4a19-4f2e-aead-735239e33516\">\n",
              "    <div class=\"colab-df-container\">\n",
              "      <div>\n",
              "<style scoped>\n",
              "    .dataframe tbody tr th:only-of-type {\n",
              "        vertical-align: middle;\n",
              "    }\n",
              "\n",
              "    .dataframe tbody tr th {\n",
              "        vertical-align: top;\n",
              "    }\n",
              "\n",
              "    .dataframe thead th {\n",
              "        text-align: right;\n",
              "    }\n",
              "</style>\n",
              "<table border=\"1\" class=\"dataframe\">\n",
              "  <thead>\n",
              "    <tr style=\"text-align: right;\">\n",
              "      <th></th>\n",
              "      <th>count</th>\n",
              "      <th>mean</th>\n",
              "      <th>std</th>\n",
              "      <th>min</th>\n",
              "      <th>25%</th>\n",
              "      <th>50%</th>\n",
              "      <th>75%</th>\n",
              "      <th>max</th>\n",
              "    </tr>\n",
              "    <tr>\n",
              "      <th>Risk_Flag</th>\n",
              "      <th></th>\n",
              "      <th></th>\n",
              "      <th></th>\n",
              "      <th></th>\n",
              "      <th></th>\n",
              "      <th></th>\n",
              "      <th></th>\n",
              "      <th></th>\n",
              "    </tr>\n",
              "  </thead>\n",
              "  <tbody>\n",
              "    <tr>\n",
              "      <th>0</th>\n",
              "      <td>221004.0</td>\n",
              "      <td>5.000449e+06</td>\n",
              "      <td>2.872255e+06</td>\n",
              "      <td>10310.0</td>\n",
              "      <td>2520632.75</td>\n",
              "      <td>5002134.0</td>\n",
              "      <td>7470480.0</td>\n",
              "      <td>9999938.0</td>\n",
              "    </tr>\n",
              "    <tr>\n",
              "      <th>1</th>\n",
              "      <td>30996.0</td>\n",
              "      <td>4.973359e+06</td>\n",
              "      <td>2.921065e+06</td>\n",
              "      <td>10675.0</td>\n",
              "      <td>2421029.00</td>\n",
              "      <td>4977653.0</td>\n",
              "      <td>7556052.0</td>\n",
              "      <td>9994501.0</td>\n",
              "    </tr>\n",
              "  </tbody>\n",
              "</table>\n",
              "</div>\n",
              "      <button class=\"colab-df-convert\" onclick=\"convertToInteractive('df-7ba76767-4a19-4f2e-aead-735239e33516')\"\n",
              "              title=\"Convert this dataframe to an interactive table.\"\n",
              "              style=\"display:none;\">\n",
              "        \n",
              "  <svg xmlns=\"http://www.w3.org/2000/svg\" height=\"24px\"viewBox=\"0 0 24 24\"\n",
              "       width=\"24px\">\n",
              "    <path d=\"M0 0h24v24H0V0z\" fill=\"none\"/>\n",
              "    <path d=\"M18.56 5.44l.94 2.06.94-2.06 2.06-.94-2.06-.94-.94-2.06-.94 2.06-2.06.94zm-11 1L8.5 8.5l.94-2.06 2.06-.94-2.06-.94L8.5 2.5l-.94 2.06-2.06.94zm10 10l.94 2.06.94-2.06 2.06-.94-2.06-.94-.94-2.06-.94 2.06-2.06.94z\"/><path d=\"M17.41 7.96l-1.37-1.37c-.4-.4-.92-.59-1.43-.59-.52 0-1.04.2-1.43.59L10.3 9.45l-7.72 7.72c-.78.78-.78 2.05 0 2.83L4 21.41c.39.39.9.59 1.41.59.51 0 1.02-.2 1.41-.59l7.78-7.78 2.81-2.81c.8-.78.8-2.07 0-2.86zM5.41 20L4 18.59l7.72-7.72 1.47 1.35L5.41 20z\"/>\n",
              "  </svg>\n",
              "      </button>\n",
              "      \n",
              "  <style>\n",
              "    .colab-df-container {\n",
              "      display:flex;\n",
              "      flex-wrap:wrap;\n",
              "      gap: 12px;\n",
              "    }\n",
              "\n",
              "    .colab-df-convert {\n",
              "      background-color: #E8F0FE;\n",
              "      border: none;\n",
              "      border-radius: 50%;\n",
              "      cursor: pointer;\n",
              "      display: none;\n",
              "      fill: #1967D2;\n",
              "      height: 32px;\n",
              "      padding: 0 0 0 0;\n",
              "      width: 32px;\n",
              "    }\n",
              "\n",
              "    .colab-df-convert:hover {\n",
              "      background-color: #E2EBFA;\n",
              "      box-shadow: 0px 1px 2px rgba(60, 64, 67, 0.3), 0px 1px 3px 1px rgba(60, 64, 67, 0.15);\n",
              "      fill: #174EA6;\n",
              "    }\n",
              "\n",
              "    [theme=dark] .colab-df-convert {\n",
              "      background-color: #3B4455;\n",
              "      fill: #D2E3FC;\n",
              "    }\n",
              "\n",
              "    [theme=dark] .colab-df-convert:hover {\n",
              "      background-color: #434B5C;\n",
              "      box-shadow: 0px 1px 3px 1px rgba(0, 0, 0, 0.15);\n",
              "      filter: drop-shadow(0px 1px 2px rgba(0, 0, 0, 0.3));\n",
              "      fill: #FFFFFF;\n",
              "    }\n",
              "  </style>\n",
              "\n",
              "      <script>\n",
              "        const buttonEl =\n",
              "          document.querySelector('#df-7ba76767-4a19-4f2e-aead-735239e33516 button.colab-df-convert');\n",
              "        buttonEl.style.display =\n",
              "          google.colab.kernel.accessAllowed ? 'block' : 'none';\n",
              "\n",
              "        async function convertToInteractive(key) {\n",
              "          const element = document.querySelector('#df-7ba76767-4a19-4f2e-aead-735239e33516');\n",
              "          const dataTable =\n",
              "            await google.colab.kernel.invokeFunction('convertToInteractive',\n",
              "                                                     [key], {});\n",
              "          if (!dataTable) return;\n",
              "\n",
              "          const docLinkHtml = 'Like what you see? Visit the ' +\n",
              "            '<a target=\"_blank\" href=https://colab.research.google.com/notebooks/data_table.ipynb>data table notebook</a>'\n",
              "            + ' to learn more about interactive tables.';\n",
              "          element.innerHTML = '';\n",
              "          dataTable['output_type'] = 'display_data';\n",
              "          await google.colab.output.renderOutput(dataTable, element);\n",
              "          const docLink = document.createElement('div');\n",
              "          docLink.innerHTML = docLinkHtml;\n",
              "          element.appendChild(docLink);\n",
              "        }\n",
              "      </script>\n",
              "    </div>\n",
              "  </div>\n",
              "  "
            ]
          },
          "metadata": {},
          "execution_count": 53
        }
      ]
    },
    {
      "cell_type": "markdown",
      "source": [
        "Observation :\n",
        "il n y a pas une grande difference entre les prets payés et ceux non payés "
      ],
      "metadata": {
        "id": "PewENxMf8WuI"
      }
    },
    {
      "cell_type": "markdown",
      "source": [
        "Intuition : STATE , CITY et Profession sont corrélés avec Income"
      ],
      "metadata": {
        "id": "zGj804nFAkhg"
      }
    },
    {
      "cell_type": "markdown",
      "source": [
        "### **Traitement des données manquantes**"
      ],
      "metadata": {
        "id": "czojydRFzwTM"
      }
    },
    {
      "cell_type": "code",
      "source": [
        "data.isnull().sum()"
      ],
      "metadata": {
        "colab": {
          "base_uri": "https://localhost:8080/"
        },
        "id": "MOCjOzaW1lCB",
        "outputId": "fd0d118f-4212-4979-890b-444e79b34fa5"
      },
      "execution_count": null,
      "outputs": [
        {
          "output_type": "execute_result",
          "data": {
            "text/plain": [
              "Id                   0\n",
              "Income               0\n",
              "Age                  0\n",
              "Experience           0\n",
              "Married/Single       0\n",
              "House_Ownership      0\n",
              "Car_Ownership        0\n",
              "Profession           0\n",
              "CITY                 0\n",
              "STATE                0\n",
              "CURRENT_JOB_YRS      0\n",
              "CURRENT_HOUSE_YRS    0\n",
              "Risk_Flag            0\n",
              "dtype: int64"
            ]
          },
          "metadata": {},
          "execution_count": 48
        }
      ]
    },
    {
      "cell_type": "markdown",
      "source": [
        "Observation : Il n'y a pas de données manquantes"
      ],
      "metadata": {
        "id": "fbdph8TL3TEd"
      }
    },
    {
      "cell_type": "markdown",
      "source": [
        "### **Detection et traitement des outliers**"
      ],
      "metadata": {
        "id": "MY8LVxjE1xpn"
      }
    },
    {
      "cell_type": "code",
      "source": [
        "plt.figure(figsize=(10,5))\n",
        "sns.boxplot(x=\"Income\", y=\"House_Ownership\", data = data)"
      ],
      "metadata": {
        "colab": {
          "base_uri": "https://localhost:8080/",
          "height": 352
        },
        "id": "frIq_76S2m2X",
        "outputId": "294d47d5-8e81-4c33-86a1-b53dc48fac50"
      },
      "execution_count": null,
      "outputs": [
        {
          "output_type": "execute_result",
          "data": {
            "text/plain": [
              "<matplotlib.axes._subplots.AxesSubplot at 0x7f6add504d10>"
            ]
          },
          "metadata": {},
          "execution_count": 50
        },
        {
          "output_type": "display_data",
          "data": {
            "text/plain": [
              "<Figure size 720x360 with 1 Axes>"
            ],
            "image/png": "[encoded data removed]"
          },
          "metadata": {
            "needs_background": "light"
          }
        }
      ]
    },
    {
      "cell_type": "code",
      "source": [
        "plt.figure(figsize=(10,5))\n",
        "sns.boxplot(x=\"CURRENT_HOUSE_YRS\", y=\"House_Ownership\", data = data)"
      ],
      "metadata": {
        "colab": {
          "base_uri": "https://localhost:8080/",
          "height": 353
        },
        "id": "XdeHPst_2zK-",
        "outputId": "8f55d5f1-3ffe-4eb1-9bd2-1a267bf4477a"
      },
      "execution_count": null,
      "outputs": [
        {
          "output_type": "execute_result",
          "data": {
            "text/plain": [
              "<matplotlib.axes._subplots.AxesSubplot at 0x7f6afa0b0950>"
            ]
          },
          "metadata": {},
          "execution_count": 51
        },
        {
          "output_type": "display_data",
          "data": {
            "text/plain": [
              "<Figure size 720x360 with 1 Axes>"
            ],
            "image/png": "[encoded data removed]"
          },
          "metadata": {
            "needs_background": "light"
          }
        }
      ]
    },
    {
      "cell_type": "code",
      "source": [
        "plt.figure(figsize=(10,5))\n",
        "sns.boxplot(x=\"Income\", y=\"Married/Single\", data = data)"
      ],
      "metadata": {
        "colab": {
          "base_uri": "https://localhost:8080/",
          "height": 352
        },
        "id": "OUzSImFW3Akd",
        "outputId": "b9db5b9c-506c-40b8-a631-a0a10ae7fb37"
      },
      "execution_count": null,
      "outputs": [
        {
          "output_type": "execute_result",
          "data": {
            "text/plain": [
              "<matplotlib.axes._subplots.AxesSubplot at 0x7f6a8e29f950>"
            ]
          },
          "metadata": {},
          "execution_count": 52
        },
        {
          "output_type": "display_data",
          "data": {
            "text/plain": [
              "<Figure size 720x360 with 1 Axes>"
            ],
            "image/png": "[encoded data removed]"
          },
          "metadata": {
            "needs_background": "light"
          }
        }
      ]
    },
    {
      "cell_type": "markdown",
      "source": [
        "Observation : Il n'y a pas de Outliers"
      ],
      "metadata": {
        "id": "8xRxt5Aj3IOJ"
      }
    },
    {
      "cell_type": "markdown",
      "source": [
        "### **Features Engineering**"
      ],
      "metadata": {
        "id": "Fm_1Zg1w8zj-"
      }
    },
    {
      "cell_type": "markdown",
      "source": [
        "#### **Categorical Variables and Dummy Variables**"
      ],
      "metadata": {
        "id": "fZf9VbGF95Y6"
      }
    },
    {
      "cell_type": "code",
      "source": [
        "data.head()"
      ],
      "metadata": {
        "colab": {
          "base_uri": "https://localhost:8080/",
          "height": 206
        },
        "id": "fAZFyo6R83bG",
        "outputId": "7162709d-ceaf-4985-e46a-813da1b254c3"
      },
      "execution_count": null,
      "outputs": [
        {
          "output_type": "execute_result",
          "data": {
            "text/plain": [
              "   Id   Income  Age  Experience Married/Single House_Ownership Car_Ownership  \\\n",
              "0   1  1303834   23           3         single          rented            no   \n",
              "1   2  7574516   40          10         single          rented            no   \n",
              "2   3  3991815   66           4        married          rented            no   \n",
              "3   4  6256451   41           2         single          rented           yes   \n",
              "4   5  5768871   47          11         single          rented            no   \n",
              "\n",
              "            Profession                 CITY           STATE  CURRENT_JOB_YRS  \\\n",
              "0  Mechanical_engineer                 Rewa  Madhya_Pradesh                3   \n",
              "1   Software_Developer             Parbhani     Maharashtra                9   \n",
              "2     Technical_writer            Alappuzha          Kerala                4   \n",
              "3   Software_Developer          Bhubaneswar          Odisha                2   \n",
              "4        Civil_servant  Tiruchirappalli[10]      Tamil_Nadu                3   \n",
              "\n",
              "   CURRENT_HOUSE_YRS  Risk_Flag  \n",
              "0                 13          0  \n",
              "1                 13          0  \n",
              "2                 10          0  \n",
              "3                 12          1  \n",
              "4                 14          1  "
            ],
            "text/html": [
              "\n",
              "  <div id=\"df-ee54e755-5a11-486d-bd00-4f67288a09a3\">\n",
              "    <div class=\"colab-df-container\">\n",
              "      <div>\n",
              "<style scoped>\n",
              "    .dataframe tbody tr th:only-of-type {\n",
              "        vertical-align: middle;\n",
              "    }\n",
              "\n",
              "    .dataframe tbody tr th {\n",
              "        vertical-align: top;\n",
              "    }\n",
              "\n",
              "    .dataframe thead th {\n",
              "        text-align: right;\n",
              "    }\n",
              "</style>\n",
              "<table border=\"1\" class=\"dataframe\">\n",
              "  <thead>\n",
              "    <tr style=\"text-align: right;\">\n",
              "      <th></th>\n",
              "      <th>Id</th>\n",
              "      <th>Income</th>\n",
              "      <th>Age</th>\n",
              "      <th>Experience</th>\n",
              "      <th>Married/Single</th>\n",
              "      <th>House_Ownership</th>\n",
              "      <th>Car_Ownership</th>\n",
              "      <th>Profession</th>\n",
              "      <th>CITY</th>\n",
              "      <th>STATE</th>\n",
              "      <th>CURRENT_JOB_YRS</th>\n",
              "      <th>CURRENT_HOUSE_YRS</th>\n",
              "      <th>Risk_Flag</th>\n",
              "    </tr>\n",
              "  </thead>\n",
              "  <tbody>\n",
              "    <tr>\n",
              "      <th>0</th>\n",
              "      <td>1</td>\n",
              "      <td>1303834</td>\n",
              "      <td>23</td>\n",
              "      <td>3</td>\n",
              "      <td>single</td>\n",
              "      <td>rented</td>\n",
              "      <td>no</td>\n",
              "      <td>Mechanical_engineer</td>\n",
              "      <td>Rewa</td>\n",
              "      <td>Madhya_Pradesh</td>\n",
              "      <td>3</td>\n",
              "      <td>13</td>\n",
              "      <td>0</td>\n",
              "    </tr>\n",
              "    <tr>\n",
              "      <th>1</th>\n",
              "      <td>2</td>\n",
              "      <td>7574516</td>\n",
              "      <td>40</td>\n",
              "      <td>10</td>\n",
              "      <td>single</td>\n",
              "      <td>rented</td>\n",
              "      <td>no</td>\n",
              "      <td>Software_Developer</td>\n",
              "      <td>Parbhani</td>\n",
              "      <td>Maharashtra</td>\n",
              "      <td>9</td>\n",
              "      <td>13</td>\n",
              "      <td>0</td>\n",
              "    </tr>\n",
              "    <tr>\n",
              "      <th>2</th>\n",
              "      <td>3</td>\n",
              "      <td>3991815</td>\n",
              "      <td>66</td>\n",
              "      <td>4</td>\n",
              "      <td>married</td>\n",
              "      <td>rented</td>\n",
              "      <td>no</td>\n",
              "      <td>Technical_writer</td>\n",
              "      <td>Alappuzha</td>\n",
              "      <td>Kerala</td>\n",
              "      <td>4</td>\n",
              "      <td>10</td>\n",
              "      <td>0</td>\n",
              "    </tr>\n",
              "    <tr>\n",
              "      <th>3</th>\n",
              "      <td>4</td>\n",
              "      <td>6256451</td>\n",
              "      <td>41</td>\n",
              "      <td>2</td>\n",
              "      <td>single</td>\n",
              "      <td>rented</td>\n",
              "      <td>yes</td>\n",
              "      <td>Software_Developer</td>\n",
              "      <td>Bhubaneswar</td>\n",
              "      <td>Odisha</td>\n",
              "      <td>2</td>\n",
              "      <td>12</td>\n",
              "      <td>1</td>\n",
              "    </tr>\n",
              "    <tr>\n",
              "      <th>4</th>\n",
              "      <td>5</td>\n",
              "      <td>5768871</td>\n",
              "      <td>47</td>\n",
              "      <td>11</td>\n",
              "      <td>single</td>\n",
              "      <td>rented</td>\n",
              "      <td>no</td>\n",
              "      <td>Civil_servant</td>\n",
              "      <td>Tiruchirappalli[10]</td>\n",
              "      <td>Tamil_Nadu</td>\n",
              "      <td>3</td>\n",
              "      <td>14</td>\n",
              "      <td>1</td>\n",
              "    </tr>\n",
              "  </tbody>\n",
              "</table>\n",
              "</div>\n",
              "      <button class=\"colab-df-convert\" onclick=\"convertToInteractive('df-ee54e755-5a11-486d-bd00-4f67288a09a3')\"\n",
              "              title=\"Convert this dataframe to an interactive table.\"\n",
              "              style=\"display:none;\">\n",
              "        \n",
              "  <svg xmlns=\"http://www.w3.org/2000/svg\" height=\"24px\"viewBox=\"0 0 24 24\"\n",
              "       width=\"24px\">\n",
              "    <path d=\"M0 0h24v24H0V0z\" fill=\"none\"/>\n",
              "    <path d=\"M18.56 5.44l.94 2.06.94-2.06 2.06-.94-2.06-.94-.94-2.06-.94 2.06-2.06.94zm-11 1L8.5 8.5l.94-2.06 2.06-.94-2.06-.94L8.5 2.5l-.94 2.06-2.06.94zm10 10l.94 2.06.94-2.06 2.06-.94-2.06-.94-.94-2.06-.94 2.06-2.06.94z\"/><path d=\"M17.41 7.96l-1.37-1.37c-.4-.4-.92-.59-1.43-.59-.52 0-1.04.2-1.43.59L10.3 9.45l-7.72 7.72c-.78.78-.78 2.05 0 2.83L4 21.41c.39.39.9.59 1.41.59.51 0 1.02-.2 1.41-.59l7.78-7.78 2.81-2.81c.8-.78.8-2.07 0-2.86zM5.41 20L4 18.59l7.72-7.72 1.47 1.35L5.41 20z\"/>\n",
              "  </svg>\n",
              "      </button>\n",
              "      \n",
              "  <style>\n",
              "    .colab-df-container {\n",
              "      display:flex;\n",
              "      flex-wrap:wrap;\n",
              "      gap: 12px;\n",
              "    }\n",
              "\n",
              "    .colab-df-convert {\n",
              "      background-color: #E8F0FE;\n",
              "      border: none;\n",
              "      border-radius: 50%;\n",
              "      cursor: pointer;\n",
              "      display: none;\n",
              "      fill: #1967D2;\n",
              "      height: 32px;\n",
              "      padding: 0 0 0 0;\n",
              "      width: 32px;\n",
              "    }\n",
              "\n",
              "    .colab-df-convert:hover {\n",
              "      background-color: #E2EBFA;\n",
              "      box-shadow: 0px 1px 2px rgba(60, 64, 67, 0.3), 0px 1px 3px 1px rgba(60, 64, 67, 0.15);\n",
              "      fill: #174EA6;\n",
              "    }\n",
              "\n",
              "    [theme=dark] .colab-df-convert {\n",
              "      background-color: #3B4455;\n",
              "      fill: #D2E3FC;\n",
              "    }\n",
              "\n",
              "    [theme=dark] .colab-df-convert:hover {\n",
              "      background-color: #434B5C;\n",
              "      box-shadow: 0px 1px 3px 1px rgba(0, 0, 0, 0.15);\n",
              "      filter: drop-shadow(0px 1px 2px rgba(0, 0, 0, 0.3));\n",
              "      fill: #FFFFFF;\n",
              "    }\n",
              "  </style>\n",
              "\n",
              "      <script>\n",
              "        const buttonEl =\n",
              "          document.querySelector('#df-ee54e755-5a11-486d-bd00-4f67288a09a3 button.colab-df-convert');\n",
              "        buttonEl.style.display =\n",
              "          google.colab.kernel.accessAllowed ? 'block' : 'none';\n",
              "\n",
              "        async function convertToInteractive(key) {\n",
              "          const element = document.querySelector('#df-ee54e755-5a11-486d-bd00-4f67288a09a3');\n",
              "          const dataTable =\n",
              "            await google.colab.kernel.invokeFunction('convertToInteractive',\n",
              "                                                     [key], {});\n",
              "          if (!dataTable) return;\n",
              "\n",
              "          const docLinkHtml = 'Like what you see? Visit the ' +\n",
              "            '<a target=\"_blank\" href=https://colab.research.google.com/notebooks/data_table.ipynb>data table notebook</a>'\n",
              "            + ' to learn more about interactive tables.';\n",
              "          element.innerHTML = '';\n",
              "          dataTable['output_type'] = 'display_data';\n",
              "          await google.colab.output.renderOutput(dataTable, element);\n",
              "          const docLink = document.createElement('div');\n",
              "          docLink.innerHTML = docLinkHtml;\n",
              "          element.appendChild(docLink);\n",
              "        }\n",
              "      </script>\n",
              "    </div>\n",
              "  </div>\n",
              "  "
            ]
          },
          "metadata": {},
          "execution_count": 59
        }
      ]
    },
    {
      "cell_type": "code",
      "source": [
        "#converting variables into dummy variables\n",
        "dummies=pd.get_dummies(data[['Married/Single', 'House_Ownership','Car_Ownership']],drop_first=True)\n",
        "\n",
        "#concatinating with orginal data\n",
        "df=pd.concat([data.drop(['Married/Single', 'House_Ownership','Car_Ownership'],axis=1),dummies],axis=1)"
      ],
      "metadata": {
        "id": "bChmnzzW-p7M"
      },
      "execution_count": 8,
      "outputs": []
    },
    {
      "cell_type": "code",
      "source": [
        "df = df.drop(['Profession', 'CITY', 'STATE'],axis=1)"
      ],
      "metadata": {
        "id": "B98SPb8r_Jj8"
      },
      "execution_count": 9,
      "outputs": []
    },
    {
      "cell_type": "code",
      "source": [
        "df.head()"
      ],
      "metadata": {
        "colab": {
          "base_uri": "https://localhost:8080/",
          "height": 206
        },
        "id": "BGhxh0tvBGVF",
        "outputId": "48e1e549-2763-4fa9-f9dd-4d0ee2daf595"
      },
      "execution_count": 10,
      "outputs": [
        {
          "output_type": "execute_result",
          "data": {
            "text/plain": [
              "   Id   Income  Age  Experience  CURRENT_JOB_YRS  CURRENT_HOUSE_YRS  \\\n",
              "0   1  1303834   23           3                3                 13   \n",
              "1   2  7574516   40          10                9                 13   \n",
              "2   3  3991815   66           4                4                 10   \n",
              "3   4  6256451   41           2                2                 12   \n",
              "4   5  5768871   47          11                3                 14   \n",
              "\n",
              "   Risk_Flag  Married/Single_single  House_Ownership_owned  \\\n",
              "0          0                      1                      0   \n",
              "1          0                      1                      0   \n",
              "2          0                      0                      0   \n",
              "3          1                      1                      0   \n",
              "4          1                      1                      0   \n",
              "\n",
              "   House_Ownership_rented  Car_Ownership_yes  \n",
              "0                       1                  0  \n",
              "1                       1                  0  \n",
              "2                       1                  0  \n",
              "3                       1                  1  \n",
              "4                       1                  0  "
            ],
            "text/html": [
              "\n",
              "  <div id=\"df-2c83a214-1bc5-4d50-979b-cee4c54b80e5\">\n",
              "    <div class=\"colab-df-container\">\n",
              "      <div>\n",
              "<style scoped>\n",
              "    .dataframe tbody tr th:only-of-type {\n",
              "        vertical-align: middle;\n",
              "    }\n",
              "\n",
              "    .dataframe tbody tr th {\n",
              "        vertical-align: top;\n",
              "    }\n",
              "\n",
              "    .dataframe thead th {\n",
              "        text-align: right;\n",
              "    }\n",
              "</style>\n",
              "<table border=\"1\" class=\"dataframe\">\n",
              "  <thead>\n",
              "    <tr style=\"text-align: right;\">\n",
              "      <th></th>\n",
              "      <th>Id</th>\n",
              "      <th>Income</th>\n",
              "      <th>Age</th>\n",
              "      <th>Experience</th>\n",
              "      <th>CURRENT_JOB_YRS</th>\n",
              "      <th>CURRENT_HOUSE_YRS</th>\n",
              "      <th>Risk_Flag</th>\n",
              "      <th>Married/Single_single</th>\n",
              "      <th>House_Ownership_owned</th>\n",
              "      <th>House_Ownership_rented</th>\n",
              "      <th>Car_Ownership_yes</th>\n",
              "    </tr>\n",
              "  </thead>\n",
              "  <tbody>\n",
              "    <tr>\n",
              "      <th>0</th>\n",
              "      <td>1</td>\n",
              "      <td>1303834</td>\n",
              "      <td>23</td>\n",
              "      <td>3</td>\n",
              "      <td>3</td>\n",
              "      <td>13</td>\n",
              "      <td>0</td>\n",
              "      <td>1</td>\n",
              "      <td>0</td>\n",
              "      <td>1</td>\n",
              "      <td>0</td>\n",
              "    </tr>\n",
              "    <tr>\n",
              "      <th>1</th>\n",
              "      <td>2</td>\n",
              "      <td>7574516</td>\n",
              "      <td>40</td>\n",
              "      <td>10</td>\n",
              "      <td>9</td>\n",
              "      <td>13</td>\n",
              "      <td>0</td>\n",
              "      <td>1</td>\n",
              "      <td>0</td>\n",
              "      <td>1</td>\n",
              "      <td>0</td>\n",
              "    </tr>\n",
              "    <tr>\n",
              "      <th>2</th>\n",
              "      <td>3</td>\n",
              "      <td>3991815</td>\n",
              "      <td>66</td>\n",
              "      <td>4</td>\n",
              "      <td>4</td>\n",
              "      <td>10</td>\n",
              "      <td>0</td>\n",
              "      <td>0</td>\n",
              "      <td>0</td>\n",
              "      <td>1</td>\n",
              "      <td>0</td>\n",
              "    </tr>\n",
              "    <tr>\n",
              "      <th>3</th>\n",
              "      <td>4</td>\n",
              "      <td>6256451</td>\n",
              "      <td>41</td>\n",
              "      <td>2</td>\n",
              "      <td>2</td>\n",
              "      <td>12</td>\n",
              "      <td>1</td>\n",
              "      <td>1</td>\n",
              "      <td>0</td>\n",
              "      <td>1</td>\n",
              "      <td>1</td>\n",
              "    </tr>\n",
              "    <tr>\n",
              "      <th>4</th>\n",
              "      <td>5</td>\n",
              "      <td>5768871</td>\n",
              "      <td>47</td>\n",
              "      <td>11</td>\n",
              "      <td>3</td>\n",
              "      <td>14</td>\n",
              "      <td>1</td>\n",
              "      <td>1</td>\n",
              "      <td>0</td>\n",
              "      <td>1</td>\n",
              "      <td>0</td>\n",
              "    </tr>\n",
              "  </tbody>\n",
              "</table>\n",
              "</div>\n",
              "      <button class=\"colab-df-convert\" onclick=\"convertToInteractive('df-2c83a214-1bc5-4d50-979b-cee4c54b80e5')\"\n",
              "              title=\"Convert this dataframe to an interactive table.\"\n",
              "              style=\"display:none;\">\n",
              "        \n",
              "  <svg xmlns=\"http://www.w3.org/2000/svg\" height=\"24px\"viewBox=\"0 0 24 24\"\n",
              "       width=\"24px\">\n",
              "    <path d=\"M0 0h24v24H0V0z\" fill=\"none\"/>\n",
              "    <path d=\"M18.56 5.44l.94 2.06.94-2.06 2.06-.94-2.06-.94-.94-2.06-.94 2.06-2.06.94zm-11 1L8.5 8.5l.94-2.06 2.06-.94-2.06-.94L8.5 2.5l-.94 2.06-2.06.94zm10 10l.94 2.06.94-2.06 2.06-.94-2.06-.94-.94-2.06-.94 2.06-2.06.94z\"/><path d=\"M17.41 7.96l-1.37-1.37c-.4-.4-.92-.59-1.43-.59-.52 0-1.04.2-1.43.59L10.3 9.45l-7.72 7.72c-.78.78-.78 2.05 0 2.83L4 21.41c.39.39.9.59 1.41.59.51 0 1.02-.2 1.41-.59l7.78-7.78 2.81-2.81c.8-.78.8-2.07 0-2.86zM5.41 20L4 18.59l7.72-7.72 1.47 1.35L5.41 20z\"/>\n",
              "  </svg>\n",
              "      </button>\n",
              "      \n",
              "  <style>\n",
              "    .colab-df-container {\n",
              "      display:flex;\n",
              "      flex-wrap:wrap;\n",
              "      gap: 12px;\n",
              "    }\n",
              "\n",
              "    .colab-df-convert {\n",
              "      background-color: #E8F0FE;\n",
              "      border: none;\n",
              "      border-radius: 50%;\n",
              "      cursor: pointer;\n",
              "      display: none;\n",
              "      fill: #1967D2;\n",
              "      height: 32px;\n",
              "      padding: 0 0 0 0;\n",
              "      width: 32px;\n",
              "    }\n",
              "\n",
              "    .colab-df-convert:hover {\n",
              "      background-color: #E2EBFA;\n",
              "      box-shadow: 0px 1px 2px rgba(60, 64, 67, 0.3), 0px 1px 3px 1px rgba(60, 64, 67, 0.15);\n",
              "      fill: #174EA6;\n",
              "    }\n",
              "\n",
              "    [theme=dark] .colab-df-convert {\n",
              "      background-color: #3B4455;\n",
              "      fill: #D2E3FC;\n",
              "    }\n",
              "\n",
              "    [theme=dark] .colab-df-convert:hover {\n",
              "      background-color: #434B5C;\n",
              "      box-shadow: 0px 1px 3px 1px rgba(0, 0, 0, 0.15);\n",
              "      filter: drop-shadow(0px 1px 2px rgba(0, 0, 0, 0.3));\n",
              "      fill: #FFFFFF;\n",
              "    }\n",
              "  </style>\n",
              "\n",
              "      <script>\n",
              "        const buttonEl =\n",
              "          document.querySelector('#df-2c83a214-1bc5-4d50-979b-cee4c54b80e5 button.colab-df-convert');\n",
              "        buttonEl.style.display =\n",
              "          google.colab.kernel.accessAllowed ? 'block' : 'none';\n",
              "\n",
              "        async function convertToInteractive(key) {\n",
              "          const element = document.querySelector('#df-2c83a214-1bc5-4d50-979b-cee4c54b80e5');\n",
              "          const dataTable =\n",
              "            await google.colab.kernel.invokeFunction('convertToInteractive',\n",
              "                                                     [key], {});\n",
              "          if (!dataTable) return;\n",
              "\n",
              "          const docLinkHtml = 'Like what you see? Visit the ' +\n",
              "            '<a target=\"_blank\" href=https://colab.research.google.com/notebooks/data_table.ipynb>data table notebook</a>'\n",
              "            + ' to learn more about interactive tables.';\n",
              "          element.innerHTML = '';\n",
              "          dataTable['output_type'] = 'display_data';\n",
              "          await google.colab.output.renderOutput(dataTable, element);\n",
              "          const docLink = document.createElement('div');\n",
              "          docLink.innerHTML = docLinkHtml;\n",
              "          element.appendChild(docLink);\n",
              "        }\n",
              "      </script>\n",
              "    </div>\n",
              "  </div>\n",
              "  "
            ]
          },
          "metadata": {},
          "execution_count": 10
        }
      ]
    },
    {
      "cell_type": "markdown",
      "source": [
        "## **Creation de Modéle**"
      ],
      "metadata": {
        "id": "gJQiUplABNJT"
      }
    },
    {
      "cell_type": "markdown",
      "source": [
        "### **Train, Test Spit**"
      ],
      "metadata": {
        "id": "MSXnRqJNBa8c"
      }
    },
    {
      "cell_type": "markdown",
      "source": [
        "Manuellement"
      ],
      "metadata": {
        "id": "CANIyjMkmN9h"
      }
    },
    {
      "cell_type": "code",
      "source": [
        "training_data = df.sample(frac=0.8, random_state=25)\n",
        "testing_data = df.drop(training_data.index)\n",
        "x_training = training_data.drop(['Risk_Flag'],axis=1)\n",
        "y_training = training_data['Risk_Flag']\n",
        "x_test = testing_data.drop(['Risk_Flag'],axis=1)\n",
        "y_test = testing_data['Risk_Flag']"
      ],
      "metadata": {
        "id": "G9m8tBEyBaMD"
      },
      "execution_count": 11,
      "outputs": []
    },
    {
      "cell_type": "code",
      "source": [
        "x_test_array = x_test.to_numpy()\n",
        "y_test_array = y_test.to_numpy()\n",
        "x_training_array = x_training.to_numpy()\n",
        "y_training_array = y_training.to_numpy()"
      ],
      "metadata": {
        "id": "5Ss35_SMmYqa"
      },
      "execution_count": 12,
      "outputs": []
    },
    {
      "cell_type": "markdown",
      "source": [
        "Fonctions predefinies"
      ],
      "metadata": {
        "id": "-ChoQbaEmQkd"
      }
    },
    {
      "cell_type": "code",
      "source": [
        "#data2=df.sample(frac=.5,random_state=101)\n",
        "#X=data2.drop(\"Risk_Flag\",axis=1).values\n",
        "#y=data2[\"Risk_Flag\"].values\n",
        "\n",
        "#spliting the data\n",
        "#X_train, X_test, y_train, y_test = train_test_split(X, y, test_size=0.2, random_state=101)"
      ],
      "metadata": {
        "id": "mpUFiKUultN4"
      },
      "execution_count": null,
      "outputs": []
    },
    {
      "cell_type": "markdown",
      "source": [
        "### **Features Scaling** "
      ],
      "metadata": {
        "id": "JphaYYDjnRmH"
      }
    },
    {
      "cell_type": "code",
      "source": [
        "scaler=MinMaxScaler()\n",
        "X_train=scaler.fit_transform(x_training_array)\n",
        "X_test=scaler.transform(x_test_array)"
      ],
      "metadata": {
        "id": "2GQHj7RSITCf"
      },
      "execution_count": 13,
      "outputs": []
    },
    {
      "cell_type": "markdown",
      "source": [
        "### **Creation de modele**"
      ],
      "metadata": {
        "id": "y_vi5yKBIzNS"
      }
    },
    {
      "cell_type": "code",
      "source": [
        "model = Sequential()\n",
        "\n",
        "model.add(Dense(78,activation=\"relu\"))\n",
        "model.add(Dropout(0.2))\n",
        "\n",
        "model.add(Dense(39,activation=\"relu\"))\n",
        "model.add(Dropout(0.2))\n",
        "\n",
        "model.add(Dense(19,activation=\"relu\"))\n",
        "model.add(Dropout(0.2))\n",
        "\n",
        "model.add(Dense(19,activation=\"relu\"))\n",
        "model.add(Dropout(0.2))\n",
        "\n",
        "model.add(Dense(units=1,activation=\"sigmoid\"))\n",
        "\n",
        "model.compile(loss=\"binary_crossentropy\",optimizer=\"adam\")\n",
        "\n",
        "\n",
        "early_stop=EarlyStopping(monitor=\"val_loss\",mode=\"min\",verbose=1,patience=5)"
      ],
      "metadata": {
        "id": "HyHMNDO-UobH"
      },
      "execution_count": 22,
      "outputs": []
    },
    {
      "cell_type": "code",
      "source": [
        "model.fit(x=X_train,y=y_training_array,epochs=50,batch_size=1000,validation_data=(X_test,y_test_array),callbacks=[early_stop])"
      ],
      "metadata": {
        "colab": {
          "base_uri": "https://localhost:8080/"
        },
        "id": "QAzIvi3sUzBY",
        "outputId": "651ecfad-643a-4ea9-a51e-cc39061e1a59"
      },
      "execution_count": 23,
      "outputs": [
        {
          "output_type": "stream",
          "name": "stdout",
          "text": [
            "Epoch 1/50\n",
            "202/202 [==============================] - 3s 8ms/step - loss: 0.4154 - val_loss: 0.3757\n",
            "Epoch 2/50\n",
            "202/202 [==============================] - 1s 5ms/step - loss: 0.3834 - val_loss: 0.3671\n",
            "Epoch 3/50\n",
            "202/202 [==============================] - 1s 5ms/step - loss: 0.3780 - val_loss: 0.3653\n",
            "Epoch 4/50\n",
            "202/202 [==============================] - 1s 5ms/step - loss: 0.3755 - val_loss: 0.3638\n",
            "Epoch 5/50\n",
            "202/202 [==============================] - 1s 5ms/step - loss: 0.3724 - val_loss: 0.3615\n",
            "Epoch 6/50\n",
            "202/202 [==============================] - 1s 5ms/step - loss: 0.3707 - val_loss: 0.3617\n",
            "Epoch 7/50\n",
            "202/202 [==============================] - 1s 5ms/step - loss: 0.3694 - val_loss: 0.3589\n",
            "Epoch 8/50\n",
            "202/202 [==============================] - 1s 5ms/step - loss: 0.3684 - val_loss: 0.3583\n",
            "Epoch 9/50\n",
            "202/202 [==============================] - 1s 5ms/step - loss: 0.3670 - val_loss: 0.3593\n",
            "Epoch 10/50\n",
            "202/202 [==============================] - 1s 5ms/step - loss: 0.3665 - val_loss: 0.3568\n",
            "Epoch 11/50\n",
            "202/202 [==============================] - 1s 5ms/step - loss: 0.3654 - val_loss: 0.3565\n",
            "Epoch 12/50\n",
            "202/202 [==============================] - 1s 5ms/step - loss: 0.3648 - val_loss: 0.3554\n",
            "Epoch 13/50\n",
            "202/202 [==============================] - 1s 5ms/step - loss: 0.3643 - val_loss: 0.3549\n",
            "Epoch 14/50\n",
            "202/202 [==============================] - 1s 5ms/step - loss: 0.3631 - val_loss: 0.3545\n",
            "Epoch 15/50\n",
            "202/202 [==============================] - 1s 5ms/step - loss: 0.3632 - val_loss: 0.3535\n",
            "Epoch 16/50\n",
            "202/202 [==============================] - 1s 5ms/step - loss: 0.3620 - val_loss: 0.3531\n",
            "Epoch 17/50\n",
            "202/202 [==============================] - 1s 4ms/step - loss: 0.3616 - val_loss: 0.3526\n",
            "Epoch 18/50\n",
            "202/202 [==============================] - 1s 5ms/step - loss: 0.3611 - val_loss: 0.3537\n",
            "Epoch 19/50\n",
            "202/202 [==============================] - 1s 5ms/step - loss: 0.3605 - val_loss: 0.3518\n",
            "Epoch 20/50\n",
            "202/202 [==============================] - 1s 4ms/step - loss: 0.3599 - val_loss: 0.3507\n",
            "Epoch 21/50\n",
            "202/202 [==============================] - 1s 5ms/step - loss: 0.3596 - val_loss: 0.3516\n",
            "Epoch 22/50\n",
            "202/202 [==============================] - 1s 5ms/step - loss: 0.3588 - val_loss: 0.3502\n",
            "Epoch 23/50\n",
            "202/202 [==============================] - 1s 5ms/step - loss: 0.3586 - val_loss: 0.3505\n",
            "Epoch 24/50\n",
            "202/202 [==============================] - 1s 5ms/step - loss: 0.3580 - val_loss: 0.3495\n",
            "Epoch 25/50\n",
            "202/202 [==============================] - 1s 5ms/step - loss: 0.3577 - val_loss: 0.3489\n",
            "Epoch 26/50\n",
            "202/202 [==============================] - 1s 5ms/step - loss: 0.3571 - val_loss: 0.3488\n",
            "Epoch 27/50\n",
            "202/202 [==============================] - 1s 5ms/step - loss: 0.3570 - val_loss: 0.3472\n",
            "Epoch 28/50\n",
            "202/202 [==============================] - 1s 5ms/step - loss: 0.3565 - val_loss: 0.3474\n",
            "Epoch 29/50\n",
            "202/202 [==============================] - 1s 5ms/step - loss: 0.3556 - val_loss: 0.3469\n",
            "Epoch 30/50\n",
            "202/202 [==============================] - 1s 5ms/step - loss: 0.3554 - val_loss: 0.3453\n",
            "Epoch 31/50\n",
            "202/202 [==============================] - 1s 5ms/step - loss: 0.3550 - val_loss: 0.3449\n",
            "Epoch 32/50\n",
            "202/202 [==============================] - 1s 5ms/step - loss: 0.3543 - val_loss: 0.3455\n",
            "Epoch 33/50\n",
            "202/202 [==============================] - 1s 5ms/step - loss: 0.3537 - val_loss: 0.3450\n",
            "Epoch 34/50\n",
            "202/202 [==============================] - 1s 5ms/step - loss: 0.3534 - val_loss: 0.3442\n",
            "Epoch 35/50\n",
            "202/202 [==============================] - 1s 5ms/step - loss: 0.3535 - val_loss: 0.3434\n",
            "Epoch 36/50\n",
            "202/202 [==============================] - 1s 5ms/step - loss: 0.3532 - val_loss: 0.3422\n",
            "Epoch 37/50\n",
            "202/202 [==============================] - 1s 4ms/step - loss: 0.3528 - val_loss: 0.3430\n",
            "Epoch 38/50\n",
            "202/202 [==============================] - 1s 5ms/step - loss: 0.3520 - val_loss: 0.3422\n",
            "Epoch 39/50\n",
            "202/202 [==============================] - 1s 5ms/step - loss: 0.3514 - val_loss: 0.3429\n",
            "Epoch 40/50\n",
            "202/202 [==============================] - 1s 5ms/step - loss: 0.3514 - val_loss: 0.3413\n",
            "Epoch 41/50\n",
            "202/202 [==============================] - 1s 5ms/step - loss: 0.3510 - val_loss: 0.3421\n",
            "Epoch 42/50\n",
            "202/202 [==============================] - 1s 5ms/step - loss: 0.3505 - val_loss: 0.3414\n",
            "Epoch 43/50\n",
            "202/202 [==============================] - 1s 4ms/step - loss: 0.3507 - val_loss: 0.3401\n",
            "Epoch 44/50\n",
            "202/202 [==============================] - 1s 5ms/step - loss: 0.3501 - val_loss: 0.3390\n",
            "Epoch 45/50\n",
            "202/202 [==============================] - 1s 5ms/step - loss: 0.3495 - val_loss: 0.3409\n",
            "Epoch 46/50\n",
            "202/202 [==============================] - 1s 5ms/step - loss: 0.3497 - val_loss: 0.3386\n",
            "Epoch 47/50\n",
            "202/202 [==============================] - 1s 5ms/step - loss: 0.3490 - val_loss: 0.3377\n",
            "Epoch 48/50\n",
            "202/202 [==============================] - 1s 5ms/step - loss: 0.3489 - val_loss: 0.3389\n",
            "Epoch 49/50\n",
            "202/202 [==============================] - 1s 5ms/step - loss: 0.3484 - val_loss: 0.3377\n",
            "Epoch 50/50\n",
            "202/202 [==============================] - 1s 5ms/step - loss: 0.3483 - val_loss: 0.3382\n"
          ]
        },
        {
          "output_type": "execute_result",
          "data": {
            "text/plain": [
              "<keras.callbacks.History at 0x7f7fc0b894d0>"
            ]
          },
          "metadata": {},
          "execution_count": 23
        }
      ]
    },
    {
      "cell_type": "code",
      "source": [
        "loss=pd.DataFrame(model.history.history)\n",
        "\n",
        "loss.plot()"
      ],
      "metadata": {
        "colab": {
          "base_uri": "https://localhost:8080/",
          "height": 283
        },
        "id": "lWaol_ZQVXLg",
        "outputId": "f3bce20b-506c-44e3-8938-1bdf07bb6cea"
      },
      "execution_count": 24,
      "outputs": [
        {
          "output_type": "execute_result",
          "data": {
            "text/plain": [
              "<matplotlib.axes._subplots.AxesSubplot at 0x7f7fc1f4a6d0>"
            ]
          },
          "metadata": {},
          "execution_count": 24
        },
        {
          "output_type": "display_data",
          "data": {
            "text/plain": [
              "<Figure size 432x288 with 1 Axes>"
            ],
            "image/png": "[encoded data removed]"
          },
          "metadata": {
            "needs_background": "light"
          }
        }
      ]
    },
    {
      "cell_type": "code",
      "source": [
        "#predict=model.predict(X_test)\n",
        "#classes_x=np.argmax(predict,axis=1)\n",
        "predict = (model.predict(X_test) > 0.5).astype(\"int32\")\n",
        "print(classification_report(y_test_array,predict))"
      ],
      "metadata": {
        "colab": {
          "base_uri": "https://localhost:8080/"
        },
        "id": "wFND611qVebL",
        "outputId": "6f0d640d-7f6d-4eb6-a19e-95445c3868a5"
      },
      "execution_count": 25,
      "outputs": [
        {
          "output_type": "stream",
          "name": "stdout",
          "text": [
            "1575/1575 [==============================] - 1s 791us/step\n",
            "              precision    recall  f1-score   support\n",
            "\n",
            "           0       0.88      1.00      0.94     44266\n",
            "           1       0.59      0.00      0.01      6134\n",
            "\n",
            "    accuracy                           0.88     50400\n",
            "   macro avg       0.74      0.50      0.47     50400\n",
            "weighted avg       0.84      0.88      0.82     50400\n",
            "\n"
          ]
        }
      ]
    }
  ]
}